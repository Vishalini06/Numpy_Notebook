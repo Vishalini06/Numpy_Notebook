{
 "cells": [
  {
   "cell_type": "code",
   "execution_count": 1,
   "id": "92853ce6-c9f6-4743-a1e2-32f559bd8826",
   "metadata": {},
   "outputs": [],
   "source": [
    "import numpy as np"
   ]
  },
  {
   "cell_type": "code",
   "execution_count": 5,
   "id": "542c70f3-40a0-4af0-bd60-a5917e867533",
   "metadata": {},
   "outputs": [
    {
     "name": "stdout",
     "output_type": "stream",
     "text": [
      "[3 4 5 6]\n"
     ]
    }
   ],
   "source": [
    "n1=np.array([3,4,5,6])\n",
    "print(n1)"
   ]
  },
  {
   "cell_type": "code",
   "execution_count": 11,
   "id": "08a65a59-487b-4b86-9aab-652bf083d1cb",
   "metadata": {},
   "outputs": [
    {
     "name": "stdout",
     "output_type": "stream",
     "text": [
      "[[1 2 3 4]\n",
      " [3 4 5 6]]\n"
     ]
    }
   ],
   "source": [
    "n2=np.array([[1,2,3,4],[3,4,5,6]])\n",
    "print(n2)"
   ]
  },
  {
   "cell_type": "code",
   "execution_count": 18,
   "id": "c80aee25-4a84-4edd-baa3-e763387f6834",
   "metadata": {},
   "outputs": [
    {
     "name": "stdout",
     "output_type": "stream",
     "text": [
      "[[0 0 0 0 0]\n",
      " [0 0 0 0 0]\n",
      " [0 0 0 0 0]]\n"
     ]
    }
   ],
   "source": [
    "n3=np.zeros([3,5],dtype='int32')\n",
    "print(n3)"
   ]
  },
  {
   "cell_type": "code",
   "execution_count": 22,
   "id": "dbf4c8d7-54f7-4841-9aa4-82e9aac6b908",
   "metadata": {},
   "outputs": [
    {
     "name": "stdout",
     "output_type": "stream",
     "text": [
      "[[[1 1 1]\n",
      "  [1 1 1]\n",
      "  [1 1 1]]\n",
      "\n",
      " [[1 1 1]\n",
      "  [1 1 1]\n",
      "  [1 1 1]]]\n"
     ]
    }
   ],
   "source": [
    "n4=np.ones([2,3,3],dtype='int32')\n",
    "print(n4)"
   ]
  },
  {
   "cell_type": "code",
   "execution_count": 24,
   "id": "99669bab-e45c-45ac-b9dc-e5524f932fc9",
   "metadata": {},
   "outputs": [
    {
     "name": "stdout",
     "output_type": "stream",
     "text": [
      "[[8.43178659e-312 0.00000000e+000 2.03489601e+174]]\n"
     ]
    }
   ],
   "source": [
    "n5=np.empty([1,3])\n",
    "print(n5)"
   ]
  },
  {
   "cell_type": "code",
   "execution_count": 26,
   "id": "61ad58b2-eb84-4ec9-becb-93afc46661f3",
   "metadata": {},
   "outputs": [
    {
     "name": "stdout",
     "output_type": "stream",
     "text": [
      "[0 1 2 3 4 5 6 7 8 9]\n"
     ]
    }
   ],
   "source": [
    "n6=np.arange(10)\n",
    "print(n6)"
   ]
  },
  {
   "cell_type": "code",
   "execution_count": 38,
   "id": "16432b44-8e17-4565-af11-c3178d47f4d8",
   "metadata": {},
   "outputs": [
    {
     "name": "stdout",
     "output_type": "stream",
     "text": [
      "[-5 -4 -3 -2 -1  0  1  2  3  4  5]\n"
     ]
    }
   ],
   "source": [
    "n7=np.arange(-5,6,1)\n",
    "print(n7)"
   ]
  },
  {
   "cell_type": "code",
   "execution_count": 46,
   "id": "98f565c6-90d9-49b6-8ede-97d027aac556",
   "metadata": {},
   "outputs": [
    {
     "name": "stdout",
     "output_type": "stream",
     "text": [
      "[ 0.          2.85714286  5.71428571  8.57142857 11.42857143 14.28571429\n",
      " 17.14285714 20.        ]\n"
     ]
    }
   ],
   "source": [
    "n8=np.linspace(0,20,num=8)\n",
    "print(n8)"
   ]
  },
  {
   "cell_type": "code",
   "execution_count": 50,
   "id": "9c13f359-df08-48e7-909b-961ac21fec4e",
   "metadata": {},
   "outputs": [
    {
     "name": "stdout",
     "output_type": "stream",
     "text": [
      "[[8 8 8 8 8]\n",
      " [8 8 8 8 8]]\n"
     ]
    }
   ],
   "source": [
    "n9=np.full([2,5],8)\n",
    "print(n9)"
   ]
  },
  {
   "cell_type": "code",
   "execution_count": 56,
   "id": "91ea5b86-2484-4c6a-b327-e89b82cf27aa",
   "metadata": {},
   "outputs": [
    {
     "name": "stdout",
     "output_type": "stream",
     "text": [
      "[[9. 9. 9.]]\n"
     ]
    }
   ],
   "source": [
    "n5.fill(9)\n",
    "print(n5)"
   ]
  },
  {
   "cell_type": "code",
   "execution_count": null,
   "id": "7a741a99-7131-457f-83c3-4e81ad66ba76",
   "metadata": {},
   "outputs": [],
   "source": [
    "Accessing array\n"
   ]
  },
  {
   "cell_type": "code",
   "execution_count": 68,
   "id": "02a8ff3e-2e33-4bc2-8fa6-fc34f94f3ddf",
   "metadata": {},
   "outputs": [
    {
     "name": "stdout",
     "output_type": "stream",
     "text": [
      "3 6\n"
     ]
    }
   ],
   "source": [
    "print(n1[0],n1[-1])"
   ]
  },
  {
   "cell_type": "code",
   "execution_count": 84,
   "id": "57244b90-19d7-452b-8398-7ec108b1dd81",
   "metadata": {},
   "outputs": [
    {
     "name": "stdout",
     "output_type": "stream",
     "text": [
      "[[1 2 3 4]\n",
      " [3 4 5 6]]\n",
      "3\n",
      "[3 4 5 6]\n",
      "[4 6]\n"
     ]
    }
   ],
   "source": [
    "print(n2)\n",
    "print(n2[1,0])\n",
    "#row and column\n",
    "# 1 is row number and 0 is position\n",
    "print(n2[1])\n",
    "#or\n",
    "print(n2[:,3])\n",
    "# print full array"
   ]
  },
  {
   "cell_type": "code",
   "execution_count": 90,
   "id": "df2d7ace-90ad-4166-bcaa-503aadbd6de0",
   "metadata": {},
   "outputs": [
    {
     "name": "stdout",
     "output_type": "stream",
     "text": [
      "[[[ 1  1  1]\n",
      "  [ 1  1  1]\n",
      "  [ 1  1  1]]\n",
      "\n",
      " [[ 1  1  1]\n",
      "  [ 1 10  1]\n",
      "  [ 1  1  1]]]\n",
      "[[[ 1  1  1]\n",
      "  [ 1  1  1]\n",
      "  [ 1  1  1]]\n",
      "\n",
      " [[ 1  1  1]\n",
      "  [ 1 10 10]\n",
      "  [ 1  1  1]]]\n"
     ]
    }
   ],
   "source": [
    "print(n4)\n",
    "n4[1,1,2]=10\n",
    "print(n4)"
   ]
  },
  {
   "cell_type": "code",
   "execution_count": null,
   "id": "d504ac3b-db13-4c52-8ff0-6db545bb84ee",
   "metadata": {},
   "outputs": [],
   "source": [
    "#Size and Shape"
   ]
  },
  {
   "cell_type": "code",
   "execution_count": 92,
   "id": "5c1fb34d-c404-40f4-96e4-caab0d0dda56",
   "metadata": {},
   "outputs": [
    {
     "name": "stdout",
     "output_type": "stream",
     "text": [
      "[[[ 1  1  1]\n",
      "  [ 1  1  1]\n",
      "  [ 1  1  1]]\n",
      "\n",
      " [[ 1  1  1]\n",
      "  [ 1 10 10]\n",
      "  [ 1  1  1]]]\n",
      "3\n"
     ]
    }
   ],
   "source": [
    "print(n4)\n",
    "print(n4.ndim)"
   ]
  },
  {
   "cell_type": "code",
   "execution_count": 94,
   "id": "844ece09-d038-4596-865a-4bf2932ef35b",
   "metadata": {},
   "outputs": [
    {
     "name": "stdout",
     "output_type": "stream",
     "text": [
      "(2, 3, 3)\n"
     ]
    }
   ],
   "source": [
    "print(n4.shape)"
   ]
  },
  {
   "cell_type": "code",
   "execution_count": 96,
   "id": "150c4b0e-0bab-444e-98c0-dee1d8a38647",
   "metadata": {},
   "outputs": [
    {
     "name": "stdout",
     "output_type": "stream",
     "text": [
      "18\n"
     ]
    }
   ],
   "source": [
    "print(n4.size)"
   ]
  },
  {
   "cell_type": "code",
   "execution_count": 98,
   "id": "04799dd2-7f85-4316-a5c4-f05a94436019",
   "metadata": {},
   "outputs": [
    {
     "name": "stdout",
     "output_type": "stream",
     "text": [
      "int32\n"
     ]
    }
   ],
   "source": [
    "print(n4.dtype)"
   ]
  },
  {
   "cell_type": "code",
   "execution_count": 100,
   "id": "80aa4995-047b-43d8-a659-8dbe469b3a16",
   "metadata": {},
   "outputs": [
    {
     "name": "stdout",
     "output_type": "stream",
     "text": [
      "4\n"
     ]
    }
   ],
   "source": [
    "print(n4.itemsize)  # 4 bytes required for storing one element in array"
   ]
  },
  {
   "cell_type": "code",
   "execution_count": 102,
   "id": "1cbc732b-f97e-413b-bdde-c6cc5a333b84",
   "metadata": {},
   "outputs": [
    {
     "name": "stdout",
     "output_type": "stream",
     "text": [
      "72\n"
     ]
    }
   ],
   "source": [
    "print(n4.nbytes) #72 bytes for storing whole array 18 x 4 = 72"
   ]
  },
  {
   "cell_type": "code",
   "execution_count": null,
   "id": "c98fde69-fe5c-4882-a9f4-8fbcdfecba72",
   "metadata": {},
   "outputs": [],
   "source": [
    "#Sorting\n"
   ]
  },
  {
   "cell_type": "code",
   "execution_count": 108,
   "id": "814fffb8-0e39-4088-8724-946f729b4ed3",
   "metadata": {},
   "outputs": [
    {
     "name": "stdout",
     "output_type": "stream",
     "text": [
      "[1 2 2 3 5 7 8 9]\n"
     ]
    }
   ],
   "source": [
    "n10=np.array([3,5,1,2,7,8,9,2])\n",
    "n=np.sort(n10)\n",
    "print(n)"
   ]
  },
  {
   "cell_type": "code",
   "execution_count": 114,
   "id": "c7c0286c-a38d-486d-ae00-668b16a166bc",
   "metadata": {},
   "outputs": [
    {
     "data": {
      "text/plain": [
       "array([[ 2,  6,  7],\n",
       "       [ 1,  5, 10]])"
      ]
     },
     "execution_count": 114,
     "metadata": {},
     "output_type": "execute_result"
    }
   ],
   "source": [
    "n11=np.array([[6,2,7],[5,10,1]])\n",
    "np.sort(n11)\n",
    "#in 2 dimensional array each row is sorted"
   ]
  },
  {
   "cell_type": "code",
   "execution_count": 116,
   "id": "c532ba7d-0bb7-48f4-8161-c37f581edf5d",
   "metadata": {},
   "outputs": [
    {
     "data": {
      "text/plain": [
       "array([[ 5,  2,  1],\n",
       "       [ 6, 10,  7]])"
      ]
     },
     "execution_count": 116,
     "metadata": {},
     "output_type": "execute_result"
    }
   ],
   "source": [
    "# in 2 dimensional array  to sort coloumn wuise\n",
    "np.sort(n11,axis=0)\n",
    "# default axis=-1"
   ]
  },
  {
   "cell_type": "code",
   "execution_count": 120,
   "id": "2134c0ee-fff8-43be-a070-9250fb198765",
   "metadata": {},
   "outputs": [
    {
     "data": {
      "text/plain": [
       "array([[ 2,  6,  7],\n",
       "       [ 1,  5, 10]])"
      ]
     },
     "execution_count": 120,
     "metadata": {},
     "output_type": "execute_result"
    }
   ],
   "source": [
    "np.sort(n11,axis=1)\n"
   ]
  },
  {
   "cell_type": "code",
   "execution_count": 122,
   "id": "d1fd24fd-0a07-458c-b257-69605365b0d0",
   "metadata": {},
   "outputs": [],
   "source": [
    "#Reshaping and Array Conversion"
   ]
  },
  {
   "cell_type": "code",
   "execution_count": 124,
   "id": "014efb41-e93a-4362-865d-ba0d1b749d51",
   "metadata": {},
   "outputs": [
    {
     "name": "stdout",
     "output_type": "stream",
     "text": [
      "[3 5 1 2 7 8 9 2]\n"
     ]
    }
   ],
   "source": [
    "print(n10)"
   ]
  },
  {
   "cell_type": "code",
   "execution_count": 134,
   "id": "da192d2e-0ddd-4b0f-b33f-9ca2c05bf510",
   "metadata": {},
   "outputs": [
    {
     "name": "stdout",
     "output_type": "stream",
     "text": [
      "[[3 5 1 2]\n",
      " [7 8 9 2]]\n"
     ]
    }
   ],
   "source": [
    "n12=n10.reshape(2,4)\n",
    "print(n12)"
   ]
  },
  {
   "cell_type": "code",
   "execution_count": 142,
   "id": "854dd3ed-bb1d-4939-837c-bcee31f21de9",
   "metadata": {},
   "outputs": [
    {
     "name": "stdout",
     "output_type": "stream",
     "text": [
      "[0 1 2 3]\n",
      "[5 6 7 8]\n",
      "[0 1 2 3 5 6 7 8]\n"
     ]
    }
   ],
   "source": [
    "# joining 2 arrays\n",
    "n13=np.arange(4)\n",
    "n14=np.arange(5,9)\n",
    "print(n13)\n",
    "print(n14)\n",
    "n15=np.concatenate((n13,n14))\n",
    "print(n15)"
   ]
  },
  {
   "cell_type": "code",
   "execution_count": 148,
   "id": "e1de86af-92c5-4a0c-99f3-f827b1c2094b",
   "metadata": {},
   "outputs": [
    {
     "name": "stdout",
     "output_type": "stream",
     "text": [
      "[0 1 2 3 4 5 6 7]\n",
      "[[0 1 2 3 4 5 6 7]]\n",
      "(8,)\n",
      "(1, 8)\n",
      "[[0]\n",
      " [1]\n",
      " [2]\n",
      " [3]\n",
      " [4]\n",
      " [5]\n",
      " [6]\n",
      " [7]]\n",
      "(8, 1)\n"
     ]
    }
   ],
   "source": [
    "#converting 1d array to 2d array\n",
    "n16=np.arange(8)\n",
    "print(n16)\n",
    "n17=n16[np.newaxis,:]\n",
    "print(n17)\n",
    "print(n16.shape)\n",
    "print(n17.shape)\n",
    "n18=n16[:,np.newaxis]\n",
    "print(n18)\n",
    "print(n18.shape)"
   ]
  },
  {
   "cell_type": "code",
   "execution_count": 150,
   "id": "0d8bd22d-8f62-4211-a666-8320bbe8e818",
   "metadata": {},
   "outputs": [
    {
     "name": "stdout",
     "output_type": "stream",
     "text": [
      "[[0]\n",
      " [1]\n",
      " [2]\n",
      " [3]\n",
      " [4]\n",
      " [5]\n",
      " [6]\n",
      " [7]]\n"
     ]
    }
   ],
   "source": [
    "#column wise\n",
    "n19=np.expand_dims(n16,axis=1)\n",
    "print(n19)"
   ]
  },
  {
   "cell_type": "code",
   "execution_count": 152,
   "id": "f142e133-c828-4e47-86fc-cd1a107991b4",
   "metadata": {},
   "outputs": [
    {
     "name": "stdout",
     "output_type": "stream",
     "text": [
      "[[0 1 2 3 4 5 6 7]]\n"
     ]
    }
   ],
   "source": [
    "#row wise\n",
    "n20=np.expand_dims(n16,axis=0)\n",
    "print(n20)"
   ]
  },
  {
   "cell_type": "code",
   "execution_count": null,
   "id": "331d57ce-6743-4970-92ed-96e96faddc8f",
   "metadata": {},
   "outputs": [],
   "source": [
    "#Indexing and slicing"
   ]
  },
  {
   "cell_type": "code",
   "execution_count": 168,
   "id": "ba8fb7d4-1468-41ae-a5e4-5ffaf3c42915",
   "metadata": {},
   "outputs": [
    {
     "name": "stdout",
     "output_type": "stream",
     "text": [
      "[0 1 2 3 4 5 6 7 8 9]\n",
      "[0 1 2 3 4]\n",
      "[4 5 6 7]\n"
     ]
    }
   ],
   "source": [
    "n21=np.arange(10)\n",
    "print(n21)\n",
    "print(n21[n21<5])\n",
    "print(n21[(n21>3) & (n21<8)])"
   ]
  },
  {
   "cell_type": "code",
   "execution_count": 170,
   "id": "7020594e-edcc-4eaf-b2b8-0936b7319b32",
   "metadata": {},
   "outputs": [
    {
     "name": "stdout",
     "output_type": "stream",
     "text": [
      "[False False False False False False  True  True  True  True]\n",
      "[6 7 8 9]\n"
     ]
    }
   ],
   "source": [
    "five_up=n21>5\n",
    "print(five_up)\n",
    "print(n21[five_up])"
   ]
  },
  {
   "cell_type": "code",
   "execution_count": 174,
   "id": "0b23eded-b03b-4ea1-9c50-046a228ea50a",
   "metadata": {},
   "outputs": [
    {
     "name": "stdout",
     "output_type": "stream",
     "text": [
      "[  0   1   2   3   4   5 100   7   8   9]\n",
      "(array([6, 7, 8, 9], dtype=int64),)\n"
     ]
    }
   ],
   "source": [
    "#nedd index\n",
    "n21[6]=100\n",
    "print(n21)\n",
    "print(np.nonzero(n21>5))"
   ]
  },
  {
   "cell_type": "code",
   "execution_count": 178,
   "id": "7bdd48ff-9c11-47eb-9899-49ff87fdc94b",
   "metadata": {},
   "outputs": [
    {
     "name": "stdout",
     "output_type": "stream",
     "text": [
      "[  3   4   5 100   7]\n"
     ]
    }
   ],
   "source": [
    "print(n21[3:8])"
   ]
  },
  {
   "cell_type": "code",
   "execution_count": null,
   "id": "fbf74848-502f-4066-9bc1-32328a232b24",
   "metadata": {},
   "outputs": [],
   "source": [
    "#Stack,Split"
   ]
  },
  {
   "cell_type": "code",
   "execution_count": 184,
   "id": "69af060b-3baa-4c2f-a1ac-bfda9083cc9a",
   "metadata": {},
   "outputs": [
    {
     "data": {
      "text/plain": [
       "array([[1, 2, 5, 6],\n",
       "       [3, 4, 7, 8]])"
      ]
     },
     "execution_count": 184,
     "metadata": {},
     "output_type": "execute_result"
    }
   ],
   "source": [
    "# Horizontal joining \n",
    "n22=np.array([[1,2],[3,4]])\n",
    "n23=np.array([[5,6],[7,8]])\n",
    "np.hstack((n22,n23))"
   ]
  },
  {
   "cell_type": "code",
   "execution_count": 186,
   "id": "bb5610f4-951d-4428-8b50-646867b3cd75",
   "metadata": {},
   "outputs": [
    {
     "data": {
      "text/plain": [
       "array([[1, 2],\n",
       "       [3, 4],\n",
       "       [5, 6],\n",
       "       [7, 8]])"
      ]
     },
     "execution_count": 186,
     "metadata": {},
     "output_type": "execute_result"
    }
   ],
   "source": [
    "np.vstack((n22,n23))"
   ]
  },
  {
   "cell_type": "code",
   "execution_count": 202,
   "id": "4042b931-1171-4097-80e2-5ef994f5170b",
   "metadata": {},
   "outputs": [
    {
     "name": "stdout",
     "output_type": "stream",
     "text": [
      "[ 0  1  2  3  4  5  6  7  8  9 10 11 12 13 14 15 16 17 18 19]\n"
     ]
    },
    {
     "data": {
      "text/plain": [
       "[array([0, 1, 2, 3, 4]),\n",
       " array([5, 6, 7, 8, 9]),\n",
       " array([10, 11, 12, 13, 14]),\n",
       " array([15, 16, 17, 18, 19])]"
      ]
     },
     "execution_count": 202,
     "metadata": {},
     "output_type": "execute_result"
    }
   ],
   "source": [
    "#split\n",
    "n24=np.arange(20)\n",
    "print(n24)\n",
    "np.hsplit(n24,4)\n"
   ]
  },
  {
   "cell_type": "code",
   "execution_count": 204,
   "id": "9cb4f789-17e0-4aa6-b44f-45b90d0d1a44",
   "metadata": {},
   "outputs": [],
   "source": [
    "#COPY"
   ]
  },
  {
   "cell_type": "code",
   "execution_count": 215,
   "id": "477efb5a-0015-4ac6-8cc6-35221e78398b",
   "metadata": {},
   "outputs": [
    {
     "name": "stdout",
     "output_type": "stream",
     "text": [
      "[50  1  2  3  4  5  6  7  8  9 10 11 12 13 14 15 16 17 18 19]\n",
      "[50  1  2  3  4  5  6  7  8  9 10 11 12 13 14 15 16 17 18 19]\n",
      "[50  1  2  3  4  5  6  7  8  9 10 11 12 13 14 15 16 17 18 19]\n"
     ]
    }
   ],
   "source": [
    "# shallow copy\n",
    "n25=n24\n",
    "print(n25)\n",
    "n24[0]=50\n",
    "print(n24)\n",
    "print(n25)\n",
    "#After copy only the reference is copied but not the elements \n",
    "#so if we change the original array n 24 to n25 \n",
    "# the value is alos changed in n25"
   ]
  },
  {
   "cell_type": "code",
   "execution_count": 219,
   "id": "3161860a-e800-4109-87e5-cbd38d85faf6",
   "metadata": {},
   "outputs": [
    {
     "name": "stdout",
     "output_type": "stream",
     "text": [
      "[50  1  2  3  4  5  6  7  8  9 10 11 12 13 14 15 16 17 18 19]\n",
      "[ 50 200   2   3   4   5   6   7   8   9  10  11  12  13  14  15  16  17\n",
      "  18  19]\n",
      "[50  1  2  3  4  5  6  7  8  9 10 11 12 13 14 15 16 17 18 19]\n"
     ]
    }
   ],
   "source": [
    "#deep copu\n",
    "n26=n24.copy()\n",
    "n24[1]=200\n",
    "print(n26)\n",
    "print(n24)\n",
    "print(n26)"
   ]
  },
  {
   "cell_type": "code",
   "execution_count": 221,
   "id": "10f786d8-edea-4ceb-9dbe-873b9a8a3d1c",
   "metadata": {},
   "outputs": [],
   "source": [
    "#Maths Function"
   ]
  },
  {
   "cell_type": "code",
   "execution_count": 223,
   "id": "ca687488-9c95-4c83-9821-b6ab7ffbc41c",
   "metadata": {},
   "outputs": [
    {
     "name": "stdout",
     "output_type": "stream",
     "text": [
      "[[1 2]\n",
      " [3 4]]\n",
      "[[5 6]\n",
      " [7 8]]\n"
     ]
    }
   ],
   "source": [
    "print(n22)\n",
    "print(n23)"
   ]
  },
  {
   "cell_type": "code",
   "execution_count": 225,
   "id": "fc2d736b-5a89-4d0c-895a-9bac04028dcc",
   "metadata": {},
   "outputs": [
    {
     "name": "stdout",
     "output_type": "stream",
     "text": [
      "[[ 6  8]\n",
      " [10 12]]\n"
     ]
    }
   ],
   "source": [
    "print(n22+n23)"
   ]
  },
  {
   "cell_type": "code",
   "execution_count": 227,
   "id": "31ead919-bb62-4164-9da2-9f17012216f1",
   "metadata": {},
   "outputs": [
    {
     "name": "stdout",
     "output_type": "stream",
     "text": [
      "[[4 4]\n",
      " [4 4]]\n"
     ]
    }
   ],
   "source": [
    "print(n23-n22)"
   ]
  },
  {
   "cell_type": "code",
   "execution_count": 229,
   "id": "7400b497-8e11-4f3f-8601-2fd86702e84b",
   "metadata": {},
   "outputs": [
    {
     "name": "stdout",
     "output_type": "stream",
     "text": [
      "[[ 5 12]\n",
      " [21 32]]\n"
     ]
    }
   ],
   "source": [
    "print(n22*n23)"
   ]
  },
  {
   "cell_type": "code",
   "execution_count": 235,
   "id": "7cd91cf9-5ca2-414f-9217-846249db045d",
   "metadata": {},
   "outputs": [
    {
     "name": "stdout",
     "output_type": "stream",
     "text": [
      "[[5 3]\n",
      " [2 2]]\n"
     ]
    }
   ],
   "source": [
    "print(n23//n22)"
   ]
  },
  {
   "cell_type": "code",
   "execution_count": 247,
   "id": "f2d51858-4ce5-4d27-adc7-5d452cf4c4ed",
   "metadata": {},
   "outputs": [
    {
     "name": "stdout",
     "output_type": "stream",
     "text": [
      "[50  1  2  3  4  5  6  7  8  9 10 11 12 13 14 15 16 17 18 19]\n",
      "240\n",
      "50\n",
      "1\n",
      "[500  10  20  30  40  50  60  70  80  90 100 110 120 130 140 150 160 170\n",
      " 180 190]\n",
      "[60 11 12 13 14 15 16 17 18 19 20 21 22 23 24 25 26 27 28 29]\n"
     ]
    }
   ],
   "source": [
    "print(n26)\n",
    "print(n26.sum())\n",
    "print(n26.max())\n",
    "print(n26.min())\n",
    "print(n26*10)\n",
    "print(n26+10)"
   ]
  },
  {
   "cell_type": "code",
   "execution_count": 273,
   "id": "f5ef5300-8b19-4cd7-9dba-90c0abe74c8a",
   "metadata": {},
   "outputs": [
    {
     "name": "stdout",
     "output_type": "stream",
     "text": [
      "[ 0.96496603  0.54030231 -0.41614684 -0.9899925  -0.65364362  0.28366219\n",
      "  0.96017029  0.75390225 -0.14550003 -0.91113026 -0.83907153  0.0044257\n",
      "  0.84385396  0.90744678  0.13673722 -0.75968791 -0.95765948 -0.27516334\n",
      "  0.66031671  0.98870462]\n"
     ]
    }
   ],
   "source": [
    "#trignometry values\n",
    "print(np.cos(n26))"
   ]
  },
  {
   "cell_type": "code",
   "execution_count": 249,
   "id": "bc83a14d-23b4-404e-ae4f-5691b3cb7a1d",
   "metadata": {},
   "outputs": [],
   "source": [
    "#Random Numbers"
   ]
  },
  {
   "cell_type": "code",
   "execution_count": 255,
   "id": "c5b94818-06dc-4daf-a035-e087b3b32ef2",
   "metadata": {},
   "outputs": [
    {
     "data": {
      "text/plain": [
       "array([[0.84418815, 0.03460397, 0.66462538],\n",
       "       [0.64324429, 0.18693262, 0.93823963],\n",
       "       [0.51776301, 0.94718058, 0.92487404]])"
      ]
     },
     "execution_count": 255,
     "metadata": {},
     "output_type": "execute_result"
    }
   ],
   "source": [
    "np.random.rand(3,3)"
   ]
  },
  {
   "cell_type": "code",
   "execution_count": 269,
   "id": "2a8c9de5-76bd-4380-af9b-bf92b8c88c80",
   "metadata": {},
   "outputs": [
    {
     "data": {
      "text/plain": [
       "array([[ 1, 12],\n",
       "       [17,  0],\n",
       "       [15,  8],\n",
       "       [ 3,  6]])"
      ]
     },
     "execution_count": 269,
     "metadata": {},
     "output_type": "execute_result"
    }
   ],
   "source": [
    "np.random.randint(20,size=(4,2))\n",
    "#random vaues below 20"
   ]
  },
  {
   "cell_type": "code",
   "execution_count": 275,
   "id": "cf85a78b-9e57-410f-a86b-fadfce934598",
   "metadata": {},
   "outputs": [
    {
     "name": "stdout",
     "output_type": "stream",
     "text": [
      "['ALLOW_THREADS', 'BUFSIZE', 'CLIP', 'DataSource', 'ERR_CALL', 'ERR_DEFAULT', 'ERR_IGNORE', 'ERR_LOG', 'ERR_PRINT', 'ERR_RAISE', 'ERR_WARN', 'FLOATING_POINT_SUPPORT', 'FPE_DIVIDEBYZERO', 'FPE_INVALID', 'FPE_OVERFLOW', 'FPE_UNDERFLOW', 'False_', 'Inf', 'Infinity', 'MAXDIMS', 'MAY_SHARE_BOUNDS', 'MAY_SHARE_EXACT', 'NAN', 'NINF', 'NZERO', 'NaN', 'PINF', 'PZERO', 'RAISE', 'RankWarning', 'SHIFT_DIVIDEBYZERO', 'SHIFT_INVALID', 'SHIFT_OVERFLOW', 'SHIFT_UNDERFLOW', 'ScalarType', 'True_', 'UFUNC_BUFSIZE_DEFAULT', 'UFUNC_PYVALS_NAME', 'WRAP', '_CopyMode', '_NoValue', '_UFUNC_API', '__NUMPY_SETUP__', '__all__', '__builtins__', '__cached__', '__config__', '__deprecated_attrs__', '__dir__', '__doc__', '__expired_functions__', '__file__', '__former_attrs__', '__future_scalars__', '__getattr__', '__loader__', '__name__', '__package__', '__path__', '__spec__', '__version__', '_add_newdoc_ufunc', '_builtins', '_distributor_init', '_financial_names', '_get_promotion_state', '_globals', '_int_extended_msg', '_mat', '_no_nep50_warning', '_pyinstaller_hooks_dir', '_pytesttester', '_set_promotion_state', '_specific_msg', '_typing', '_using_numpy2_behavior', '_utils', 'abs', 'absolute', 'add', 'add_docstring', 'add_newdoc', 'add_newdoc_ufunc', 'all', 'allclose', 'alltrue', 'amax', 'amin', 'angle', 'any', 'append', 'apply_along_axis', 'apply_over_axes', 'arange', 'arccos', 'arccosh', 'arcsin', 'arcsinh', 'arctan', 'arctan2', 'arctanh', 'argmax', 'argmin', 'argpartition', 'argsort', 'argwhere', 'around', 'array', 'array2string', 'array_equal', 'array_equiv', 'array_repr', 'array_split', 'array_str', 'asanyarray', 'asarray', 'asarray_chkfinite', 'ascontiguousarray', 'asfarray', 'asfortranarray', 'asmatrix', 'atleast_1d', 'atleast_2d', 'atleast_3d', 'average', 'bartlett', 'base_repr', 'binary_repr', 'bincount', 'bitwise_and', 'bitwise_not', 'bitwise_or', 'bitwise_xor', 'blackman', 'block', 'bmat', 'bool_', 'broadcast', 'broadcast_arrays', 'broadcast_shapes', 'broadcast_to', 'busday_count', 'busday_offset', 'busdaycalendar', 'byte', 'byte_bounds', 'bytes_', 'c_', 'can_cast', 'cast', 'cbrt', 'cdouble', 'ceil', 'cfloat', 'char', 'character', 'chararray', 'choose', 'clip', 'clongdouble', 'clongfloat', 'column_stack', 'common_type', 'compare_chararrays', 'compat', 'complex128', 'complex64', 'complex_', 'complexfloating', 'compress', 'concatenate', 'conj', 'conjugate', 'convolve', 'copy', 'copysign', 'copyto', 'corrcoef', 'correlate', 'cos', 'cosh', 'count_nonzero', 'cov', 'cross', 'csingle', 'ctypeslib', 'cumprod', 'cumproduct', 'cumsum', 'datetime64', 'datetime_as_string', 'datetime_data', 'deg2rad', 'degrees', 'delete', 'deprecate', 'deprecate_with_doc', 'diag', 'diag_indices', 'diag_indices_from', 'diagflat', 'diagonal', 'diff', 'digitize', 'disp', 'divide', 'divmod', 'dot', 'double', 'dsplit', 'dstack', 'dtype', 'dtypes', 'e', 'ediff1d', 'einsum', 'einsum_path', 'emath', 'empty', 'empty_like', 'equal', 'errstate', 'euler_gamma', 'exceptions', 'exp', 'exp2', 'expand_dims', 'expm1', 'expm1x', 'extract', 'eye', 'fabs', 'fastCopyAndTranspose', 'fft', 'fill_diagonal', 'find_common_type', 'finfo', 'fix', 'flatiter', 'flatnonzero', 'flexible', 'flip', 'fliplr', 'flipud', 'float16', 'float32', 'float64', 'float_', 'float_power', 'floating', 'floor', 'floor_divide', 'fmax', 'fmin', 'fmod', 'format_float_positional', 'format_float_scientific', 'format_parser', 'frexp', 'from_dlpack', 'frombuffer', 'fromfile', 'fromfunction', 'fromiter', 'frompyfunc', 'fromregex', 'fromstring', 'full', 'full_like', 'gcd', 'generic', 'genfromtxt', 'geomspace', 'get_array_wrap', 'get_include', 'get_printoptions', 'getbufsize', 'geterr', 'geterrcall', 'geterrobj', 'gradient', 'greater', 'greater_equal', 'half', 'hamming', 'hanning', 'heaviside', 'histogram', 'histogram2d', 'histogram_bin_edges', 'histogramdd', 'hsplit', 'hstack', 'hypot', 'i0', 'identity', 'iinfo', 'imag', 'in1d', 'index_exp', 'indices', 'inexact', 'inf', 'info', 'infty', 'inner', 'insert', 'int16', 'int32', 'int64', 'int8', 'int_', 'intc', 'integer', 'interp', 'intersect1d', 'intp', 'invert', 'is_busday', 'isclose', 'iscomplex', 'iscomplexobj', 'isfinite', 'isfortran', 'isin', 'isinf', 'isnan', 'isnat', 'isneginf', 'isposinf', 'isreal', 'isrealobj', 'isscalar', 'issctype', 'issubclass_', 'issubdtype', 'issubsctype', 'iterable', 'ix_', 'kaiser', 'kron', 'lcm', 'ldexp', 'left_shift', 'less', 'less_equal', 'lexsort', 'lib', 'linalg', 'linspace', 'little_endian', 'load', 'loadtxt', 'log', 'log10', 'log1p', 'log2', 'logaddexp', 'logaddexp2', 'logical_and', 'logical_not', 'logical_or', 'logical_xor', 'logspace', 'longcomplex', 'longdouble', 'longfloat', 'longlong', 'lookfor', 'ma', 'mask_indices', 'mat', 'matmul', 'matrix', 'max', 'maximum', 'maximum_sctype', 'may_share_memory', 'mean', 'median', 'memmap', 'meshgrid', 'mgrid', 'min', 'min_scalar_type', 'minimum', 'mintypecode', 'mod', 'modf', 'moveaxis', 'msort', 'multiply', 'nan', 'nan_to_num', 'nanargmax', 'nanargmin', 'nancumprod', 'nancumsum', 'nanmax', 'nanmean', 'nanmedian', 'nanmin', 'nanpercentile', 'nanprod', 'nanquantile', 'nanstd', 'nansum', 'nanvar', 'nbytes', 'ndarray', 'ndenumerate', 'ndim', 'ndindex', 'nditer', 'negative', 'nested_iters', 'newaxis', 'nextafter', 'nonzero', 'not_equal', 'numarray', 'number', 'obj2sctype', 'object_', 'ogrid', 'oldnumeric', 'ones', 'ones_like', 'outer', 'packbits', 'pad', 'partition', 'percentile', 'pi', 'piecewise', 'place', 'poly', 'poly1d', 'polyadd', 'polyder', 'polydiv', 'polyfit', 'polyint', 'polymul', 'polynomial', 'polysub', 'polyval', 'positive', 'power', 'printoptions', 'prod', 'product', 'promote_types', 'ptp', 'put', 'put_along_axis', 'putmask', 'quantile', 'r_', 'rad2deg', 'radians', 'random', 'ravel', 'ravel_multi_index', 'real', 'real_if_close', 'rec', 'recarray', 'recfromcsv', 'recfromtxt', 'reciprocal', 'record', 'remainder', 'repeat', 'require', 'reshape', 'resize', 'result_type', 'right_shift', 'rint', 'roll', 'rollaxis', 'roots', 'rot90', 'round', 'round_', 'row_stack', 's_', 'safe_eval', 'save', 'savetxt', 'savez', 'savez_compressed', 'sctype2char', 'sctypeDict', 'sctypes', 'searchsorted', 'select', 'set_numeric_ops', 'set_printoptions', 'set_string_function', 'setbufsize', 'setdiff1d', 'seterr', 'seterrcall', 'seterrobj', 'setxor1d', 'shape', 'shares_memory', 'short', 'show_config', 'show_runtime', 'sign', 'signbit', 'signedinteger', 'sin', 'sinc', 'single', 'singlecomplex', 'sinh', 'size', 'sometrue', 'sort', 'sort_complex', 'source', 'spacing', 'split', 'sqrt', 'square', 'squeeze', 'stack', 'std', 'str_', 'string_', 'subtract', 'sum', 'swapaxes', 'take', 'take_along_axis', 'tan', 'tanh', 'tensordot', 'test', 'testing', 'tile', 'timedelta64', 'trace', 'tracemalloc_domain', 'transpose', 'trapz', 'tri', 'tril', 'tril_indices', 'tril_indices_from', 'trim_zeros', 'triu', 'triu_indices', 'triu_indices_from', 'true_divide', 'trunc', 'typecodes', 'typename', 'typing', 'ubyte', 'ufunc', 'uint', 'uint16', 'uint32', 'uint64', 'uint8', 'uintc', 'uintp', 'ulonglong', 'unicode_', 'union1d', 'unique', 'unpackbits', 'unravel_index', 'unsignedinteger', 'unwrap', 'ushort', 'vander', 'var', 'vdot', 'vectorize', 'version', 'void', 'vsplit', 'vstack', 'where', 'who', 'zeros', 'zeros_like']\n"
     ]
    }
   ],
   "source": [
    "print(dir(np))"
   ]
  },
  {
   "cell_type": "code",
   "execution_count": 277,
   "id": "ec202742-68c9-4d02-bed0-ae192e5f1eba",
   "metadata": {},
   "outputs": [],
   "source": [
    "#Searching"
   ]
  },
  {
   "cell_type": "code",
   "execution_count": 287,
   "id": "a047db20-31d1-457e-8783-74571b306e17",
   "metadata": {},
   "outputs": [
    {
     "name": "stdin",
     "output_type": "stream",
     "text": [
      "hello -> 4\n"
     ]
    },
    {
     "name": "stdout",
     "output_type": "stream",
     "text": [
      "(array([0, 2, 4, 6, 8], dtype=int64),)\n",
      "(array([3], dtype=int64),)\n"
     ]
    }
   ],
   "source": [
    "\n",
    "#searchig\n",
    "x=np.array([1,2,3,4,5,6,7,8,9])\n",
    "z=int(input(\"hello ->\"))\n",
    "y=np.where(x==z)\n",
    "a=np.where(x%2==1)\n",
    "print(a)\n",
    "print(y)"
   ]
  },
  {
   "cell_type": "code",
   "execution_count": 301,
   "id": "a00d7572-f6ff-4eaf-a16e-cb7e0088d420",
   "metadata": {},
   "outputs": [
    {
     "name": "stdout",
     "output_type": "stream",
     "text": [
      "[1 3 5]\n",
      "4\n"
     ]
    }
   ],
   "source": [
    "#searchsorted()\n",
    "x=np.array([1,2,3,4,5,6,7,8,9])\n",
    "b=np.searchsorted(x,4,side=\"right\")\n",
    "c=np.searchsorted(x,[2,4,6])\n",
    "print(c)\n",
    "\n",
    "print(b)\n",
    "#search values and return its index"
   ]
  },
  {
   "cell_type": "code",
   "execution_count": null,
   "id": "01965044-29a2-4f17-8533-310280ee0d07",
   "metadata": {},
   "outputs": [],
   "source": []
  }
 ],
 "metadata": {
  "kernelspec": {
   "display_name": "Python 3 (ipykernel)",
   "language": "python",
   "name": "python3"
  },
  "language_info": {
   "codemirror_mode": {
    "name": "ipython",
    "version": 3
   },
   "file_extension": ".py",
   "mimetype": "text/x-python",
   "name": "python",
   "nbconvert_exporter": "python",
   "pygments_lexer": "ipython3",
   "version": "3.12.4"
  }
 },
 "nbformat": 4,
 "nbformat_minor": 5
}
